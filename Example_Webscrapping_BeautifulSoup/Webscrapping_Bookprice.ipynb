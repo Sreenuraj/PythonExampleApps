{
 "cells": [
  {
   "cell_type": "code",
   "execution_count": 1,
   "metadata": {
    "collapsed": true
   },
   "outputs": [],
   "source": [
    "import requests\n",
    "import pandas as pd\n",
    "from bs4 import BeautifulSoup as bs"
   ]
  },
  {
   "cell_type": "code",
   "execution_count": 83,
   "metadata": {},
   "outputs": [],
   "source": [
    "website_url_amz = \"https://www.amazon.in/s/field-keywords=Blink\"\n",
    "get_webpage = requests.get(website_url_amz)\n",
    "content_website = get_webpage.content"
   ]
  },
  {
   "cell_type": "code",
   "execution_count": 84,
   "metadata": {},
   "outputs": [],
   "source": [
    "soup_website = bs(content_website,\"html.parser\")\n"
   ]
  },
  {
   "cell_type": "code",
   "execution_count": 166,
   "metadata": {},
   "outputs": [],
   "source": [
    "#main_class_right = soup_website.find_all(\"div\",{\"class\",\"a-fixed-left-grid-col a-col-right\"})\n",
    "main_class_right = soup_website.find_all(\"div\",{\"class\",\"a-fixed-left-grid-inner\"})\n",
    "#main_class_left = soup_website.find_all(\"div\",{\"class\",\"a-link-normal a-text-normal\"})"
   ]
  },
  {
   "cell_type": "code",
   "execution_count": 241,
   "metadata": {},
   "outputs": [
    {
     "name": "stdout",
     "output_type": "stream",
     "text": [
      "price: 274\n",
      "Title: Blink: The Power of Thinking without thinking\n",
      "Author:  Malcolm Gladwell\n",
      "Found the URL: https://www.amazon.in/Blink-Power-Thinking-without-thinking/dp/0141014598\n",
      "Found the image: https://images-eu.ssl-images-amazon.com/images/I/51netUeGUoL._SL218_PIsitb-sticker-arrow-dp,TopRight,12,-18_SH30_OU31_AC_US218_.jpg\n",
      "\n"
     ]
    }
   ],
   "source": [
    "#Amazon\n",
    "for each in main_class_right:\n",
    "    try:\n",
    "        price = each.find_all(\"span\",{\"class\",\"a-size-base a-color-price s-price a-text-bold\"})[0].text\n",
    "        print(\"price:\",int(price))\n",
    "    except:\n",
    "        pass\n",
    "    try:\n",
    "        print(\"Title:\",each.find_all(\"h2\",{\"class\",\"a-size-medium s-inline s-access-title a-text-normal\"})[0].text)\n",
    "    except:\n",
    "        pass\n",
    "    try:\n",
    "        print(\"Author:\",each.find_all('div',{\"class\",\"a-row a-spacing-none\"})[1].text.replace(\"by\",\"\"))\n",
    "    except:\n",
    "        pass\n",
    "    try:\n",
    "        for a in each.find_all('a', href=True):\n",
    "            #print(a)\n",
    "            print(\"Found the URL:\", a['href'])\n",
    "            print(\"Found the image:\",a.findAll('img')[0].get('src'))\n",
    "            break\n",
    "    except:\n",
    "        pass\n",
    "    \n",
    "    print(\"\")\n",
    "    break\n",
    "\n",
    "   "
   ]
  },
  {
   "cell_type": "code",
   "execution_count": null,
   "metadata": {
    "collapsed": true
   },
   "outputs": [],
   "source": [
    "https://www.flipkart.com/search?q=blink"
   ]
  }
 ],
 "metadata": {
  "kernelspec": {
   "display_name": "Python 3",
   "language": "python",
   "name": "python3"
  },
  "language_info": {
   "codemirror_mode": {
    "name": "ipython",
    "version": 3
   },
   "file_extension": ".py",
   "mimetype": "text/x-python",
   "name": "python",
   "nbconvert_exporter": "python",
   "pygments_lexer": "ipython3",
   "version": "3.6.3"
  }
 },
 "nbformat": 4,
 "nbformat_minor": 2
}
